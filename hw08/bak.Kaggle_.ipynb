{
  "cells": [
    {
      "cell_type": "code",
      "execution_count": 2,
      "metadata": {
        "id": "sQYWPbjCofXX"
      },
      "outputs": [],
      "source": [
        "import pandas as pd\n",
        "import numpy as np\n",
        "import math\n",
        "from matplotlib import pyplot as plt"
      ]
    },
    {
      "cell_type": "code",
      "execution_count": 3,
      "metadata": {
        "colab": {
          "base_uri": "https://localhost:8080/"
        },
        "id": "a8o9WuHUoyh2",
        "outputId": "0a5f7d9a-ab10-4190-bc0b-e940f29d06f2"
      },
      "outputs": [
        {
          "output_type": "stream",
          "name": "stdout",
          "text": [
            "Downloading...\n",
            "From: https://drive.google.com/uc?id=1ERwQ5odiK1Zvi1LtjpkzCMUswYsAX8_K\n",
            "To: /content/train.csv\n",
            "100% 664k/664k [00:00<00:00, 122MB/s]\n",
            "Downloading...\n",
            "From: https://drive.google.com/uc?id=1fGw_-RFwvn_LEdt91Jq-7A-wzG6mmH8r\n",
            "To: /content/test.csv\n",
            "100% 218k/218k [00:00<00:00, 87.9MB/s]\n",
            "Downloading...\n",
            "From: https://drive.google.com/uc?id=199Mt4OYZNaelT83U-HGDsEYs2YcUGQ6y\n",
            "To: /content/submission.csv\n",
            "100% 14.7k/14.7k [00:00<00:00, 22.6MB/s]\n"
          ]
        }
      ],
      "source": [
        "!gdown 1ERwQ5odiK1Zvi1LtjpkzCMUswYsAX8_K  # train.csv\n",
        "!gdown 1fGw_-RFwvn_LEdt91Jq-7A-wzG6mmH8r  # test.csv\n",
        "!gdown 199Mt4OYZNaelT83U-HGDsEYs2YcUGQ6y  # submission.csv"
      ]
    },
    {
      "cell_type": "code",
      "execution_count": 4,
      "metadata": {
        "id": "U7Sej1n2o0Lv"
      },
      "outputs": [],
      "source": [
        "data = pd.read_csv('./train.csv')\n",
        "# Числовые признаки\n",
        "num_cols = [\n",
        "    'ClientPeriod',\n",
        "    'MonthlySpending',\n",
        "    'TotalSpent'\n",
        "]\n",
        "\n",
        "# Категориальные признаки\n",
        "cat_cols = [\n",
        "    'Sex',\n",
        "    'IsSeniorCitizen',\n",
        "    'HasPartner',\n",
        "    'HasChild',\n",
        "    'HasPhoneService',\n",
        "    'HasMultiplePhoneNumbers',\n",
        "    'HasInternetService',\n",
        "    'HasOnlineSecurityService',\n",
        "    'HasOnlineBackup',\n",
        "    'HasDeviceProtection',\n",
        "    'HasTechSupportAccess',\n",
        "    'HasOnlineTV',\n",
        "    'HasMovieSubscription',\n",
        "    'HasContractPhone',\n",
        "    'IsBillingPaperless',\n",
        "    'PaymentMethod'\n",
        "]\n",
        "\n",
        "feature_cols = num_cols + cat_cols\n",
        "target_col = 'Churn'"
      ]
    },
    {
      "cell_type": "code",
      "execution_count": 5,
      "metadata": {
        "colab": {
          "base_uri": "https://localhost:8080/"
        },
        "id": "4xkV0I6Ro3_y",
        "outputId": "25b2ad14-2ed1-4106-c267-d62130844c00"
      },
      "outputs": [
        {
          "output_type": "stream",
          "name": "stdout",
          "text": [
            "<class 'pandas.core.frame.DataFrame'>\n",
            "RangeIndex: 5282 entries, 0 to 5281\n",
            "Data columns (total 20 columns):\n",
            " #   Column                    Non-Null Count  Dtype  \n",
            "---  ------                    --------------  -----  \n",
            " 0   ClientPeriod              5282 non-null   int64  \n",
            " 1   MonthlySpending           5282 non-null   float64\n",
            " 2   TotalSpent                5282 non-null   object \n",
            " 3   Sex                       5282 non-null   object \n",
            " 4   IsSeniorCitizen           5282 non-null   int64  \n",
            " 5   HasPartner                5282 non-null   object \n",
            " 6   HasChild                  5282 non-null   object \n",
            " 7   HasPhoneService           5282 non-null   object \n",
            " 8   HasMultiplePhoneNumbers   5282 non-null   object \n",
            " 9   HasInternetService        5282 non-null   object \n",
            " 10  HasOnlineSecurityService  5282 non-null   object \n",
            " 11  HasOnlineBackup           5282 non-null   object \n",
            " 12  HasDeviceProtection       5282 non-null   object \n",
            " 13  HasTechSupportAccess      5282 non-null   object \n",
            " 14  HasOnlineTV               5282 non-null   object \n",
            " 15  HasMovieSubscription      5282 non-null   object \n",
            " 16  HasContractPhone          5282 non-null   object \n",
            " 17  IsBillingPaperless        5282 non-null   object \n",
            " 18  PaymentMethod             5282 non-null   object \n",
            " 19  Churn                     5282 non-null   int64  \n",
            "dtypes: float64(1), int64(3), object(16)\n",
            "memory usage: 825.4+ KB\n"
          ]
        }
      ],
      "source": [
        "data.info()#Видно, что totalspent это строка, тут что-то не так "
      ]
    },
    {
      "cell_type": "code",
      "execution_count": 6,
      "metadata": {
        "colab": {
          "base_uri": "https://localhost:8080/"
        },
        "id": "vlln1dAGpDoS",
        "outputId": "5ffb6970-bcfc-4abd-f3d9-7b0226bdc036"
      },
      "outputs": [
        {
          "output_type": "stream",
          "name": "stdout",
          "text": [
            "val error-   -\n"
          ]
        }
      ],
      "source": [
        "#и по всей видимости там не только вещественные числа, но и какой-то мусор \n",
        "f = ''\n",
        "for a in data['TotalSpent'].unique():\n",
        "  try:\n",
        "    float(a)\n",
        "  except:\n",
        "    print(\"val error-\",a,\"-\")\n",
        "    f = a #тк такая хрень одна, одной переменной и хватит(эксперементально вывел)"
      ]
    },
    {
      "cell_type": "code",
      "execution_count": 7,
      "metadata": {
        "colab": {
          "base_uri": "https://localhost:8080/"
        },
        "id": "IBbJFvy_pRlY",
        "outputId": "f7d4dcda-b954-4e8a-f561-33857481d552"
      },
      "outputs": [
        {
          "output_type": "stream",
          "name": "stderr",
          "text": [
            "<ipython-input-7-db266aafbc06>:2: DeprecationWarning: `np.float` is a deprecated alias for the builtin `float`. To silence this warning, use `float` by itself. Doing this will not modify any behavior and is safe. If you specifically wanted the numpy scalar type, use `np.float64` here.\n",
            "Deprecated in NumPy 1.20; for more details and guidance: https://numpy.org/devdocs/release/1.20.0-notes.html#deprecations\n",
            "  data['TotalSpent'] = data['TotalSpent'].apply(np.float)\n"
          ]
        }
      ],
      "source": [
        "data = data.drop(data[data['TotalSpent'] == f].index)  #тут строк не так много можно просто удалить и не париться\n",
        "data['TotalSpent'] = data['TotalSpent'].apply(np.float)"
      ]
    },
    {
      "cell_type": "code",
      "execution_count": 8,
      "metadata": {
        "colab": {
          "base_uri": "https://localhost:8080/"
        },
        "id": "gElbqb1tpUqs",
        "outputId": "8848eb3a-f854-4beb-e1be-d7ee80eba1da"
      },
      "outputs": [
        {
          "output_type": "stream",
          "name": "stdout",
          "text": [
            "[55 72  1 32 60 25 27 50 16 70 69 26 38 30 52 71 59 61  7 20 48 22  2 21\n",
            " 44 66 58 46 45  5  4  3 62  6 39 68 51 40 10 43 12 35 31 67  8 11 29 37\n",
            " 33 14 15 47 23 65 13 41 53  9 64 42 34 17 18 63 56 54 24 28 49 19 57 36]\n",
            "[ 19.5   25.85  75.9  ... 112.25 117.5   98.2 ]\n",
            "[1026.35 1872.2    75.9  ...   55.05 2215.25 1375.6 ]\n",
            "['Male' 'Female']\n",
            "[0 1]\n",
            "['Yes' 'No']\n",
            "['Yes' 'No']\n",
            "['Yes' 'No']\n",
            "['No' 'Yes' 'No phone service']\n",
            "['No' 'Fiber optic' 'DSL']\n",
            "['No internet service' 'No' 'Yes']\n",
            "['No internet service' 'No' 'Yes']\n",
            "['No internet service' 'No' 'Yes']\n",
            "['No internet service' 'Yes' 'No']\n",
            "['No internet service' 'No' 'Yes']\n",
            "['No internet service' 'No' 'Yes']\n",
            "['One year' 'Two year' 'Month-to-month']\n",
            "['No' 'Yes']\n",
            "['Mailed check' 'Credit card (automatic)' 'Electronic check'\n",
            " 'Bank transfer (automatic)']\n"
          ]
        }
      ],
      "source": [
        "#проверим категориальные признаки на присунтсвие мусора \n",
        "for a in feature_cols:\n",
        "  print(data[a].unique())#те вроде все ок, среди уникальных значений нет мусора "
      ]
    },
    {
      "cell_type": "markdown",
      "metadata": {
        "id": "nHm3Y3IjpvlE"
      },
      "source": [
        "Теперь посмотрим на картинки модные, красивые "
      ]
    },
    {
      "cell_type": "code",
      "execution_count": 10,
      "metadata": {
        "colab": {
          "base_uri": "https://localhost:8080/",
          "height": 1000
        },
        "id": "mxZU-9kWpsU4",
        "outputId": "55ba159a-4aa8-4453-8141-da78f3d01962"
      },
      "outputs": [
        {
          "output_type": "stream",
          "name": "stderr",
          "text": [
            "<ipython-input-10-1bc83457083c>:7: UserWarning: Tight layout not applied. tight_layout cannot make axes width small enough to accommodate all axes decorations\n",
            "  fig.tight_layout()\n"
          ]
        },
        {
          "output_type": "display_data",
          "data": {
            "text/plain": [
              "<Figure size 1080x1080 with 16 Axes>"
            ],
            "image/png": "[encoded data removed]"
          },
          "metadata": {}
        },
        {
          "output_type": "display_data",
          "data": {
            "text/plain": [
              "<Figure size 1164.6x576 with 6 Axes>"
            ],
            "image/png": "[encoded data removed]"
          },
          "metadata": {
            "needs_background": "light"
          }
        }
      ],
      "source": [
        "fig, ax = plt.subplots(4, 4)\n",
        "for k,a in enumerate(cat_cols):\n",
        "  ax[math.ceil(k//4),k%4].set_title(a)\n",
        "  ax[math.ceil(k//4),k%4].pie(data[a].value_counts(),labels = data[a].unique(),autopct='%.1f%%', shadow=True)#тут делаются пирожки \n",
        "\n",
        "data.hist(figsize=(16.175,8),bins = 100)\n",
        "fig.tight_layout()\n",
        "fig.set_figheight(15)\n",
        "fig.set_figwidth(15)\n",
        "plt.show()"
      ]
    },
    {
      "cell_type": "markdown",
      "metadata": {
        "id": "F0pVrrmsq2KU"
      },
      "source": [
        "Опять же, в категориальных признаках все ок. Классы целевой переменной вполне сбалансированны, разница не огромная. Выбросы в числовых признаках походу есть, но что-то с ними делать я не собираюсь, все не так плохо"
      ]
    },
    {
      "cell_type": "code",
      "execution_count": 11,
      "metadata": {
        "id": "22tQ6ZpQrQ6D"
      },
      "outputs": [],
      "source": [
        "from sklearn.linear_model import LogisticRegression, LogisticRegressionCV\n",
        "from sklearn.model_selection import train_test_split, GridSearchCV\n",
        "from sklearn.preprocessing import StandardScaler, RobustScaler, LabelEncoder, OneHotEncoder\n",
        "from sklearn.pipeline import make_pipeline\n",
        "from sklearn.metrics import roc_auc_score"
      ]
    },
    {
      "cell_type": "code",
      "execution_count": 12,
      "metadata": {
        "id": "sHtS92-crUiQ"
      },
      "outputs": [],
      "source": [
        "cat_data = data[cat_cols]\n",
        "one_hot_data = pd.get_dummies(cat_data)\n",
        "num_data = data[num_cols]\n",
        "\n",
        "\n",
        "num_train, num_test,hot_train,hot_test, y_train, y_test = train_test_split(num_data,one_hot_data,data[target_col], random_state = 228,train_size=0.8)\n",
        "\n",
        "scaler = StandardScaler()\n",
        "num_train_sc = scaler.fit_transform(num_train)\n",
        "num_test_sc = scaler.fit_transform(num_test)\n",
        "# Чтобы не было лишних корреляций между тестовой и тренировочной выборкой \n",
        "features_data_train = pd.concat([pd.DataFrame(num_train), hot_train],axis = 'columns')\n",
        "features_data_test = pd.concat([pd.DataFrame(num_test), hot_test],axis = 'columns')\n",
        "\n",
        "features_data_train.columns = [str(t) for t in features_data_train.columns]\n",
        "features_data_test.columns = [str(t) for t in features_data_test.columns]\n",
        "#функции воняют на то, что названия колонок не одного типа"
      ]
    },
    {
      "cell_type": "code",
      "execution_count": null,
      "metadata": {
        "colab": {
          "base_uri": "https://localhost:8080/"
        },
        "id": "cnD6J7wZsNNY",
        "outputId": "021bfa55-ec41-46be-94bc-36059e1b3896"
      },
      "outputs": [
        {
          "name": "stdout",
          "output_type": "stream",
          "text": [
            "0.8510459089359363 0.832744626846946\n"
          ]
        }
      ],
      "source": [
        "lsp = np.linspace(0,20,40)\n",
        "#обучаем\n",
        "lcv = LogisticRegressionCV(Cs = lsp, cv = 5, penalty = 'l2', scoring = 'roc_auc', max_iter = 1000,n_jobs = -1 ,refit = True)\n",
        "lcv.fit(features_data_train, y_train)\n",
        "y_pred_train = lcv.predict_proba(features_data_train)\n",
        "y_pred_test = lcv.predict_proba(features_data_test)\n",
        "\n",
        "#там выдаются две вероятности, нам нужна вер класса 1\n",
        "print(roc_auc_score(y_train,y_pred_train[:,1]), roc_auc_score(y_test, y_pred_test[:,1]))\n"
      ]
    },
    {
      "cell_type": "markdown",
      "metadata": {
        "id": "ywdHCWjOszUc"
      },
      "source": [
        "Норм, посмотрим что даст градиентый бустинг"
      ]
    },
    {
      "cell_type": "code",
      "execution_count": 15,
      "metadata": {
        "colab": {
          "base_uri": "https://localhost:8080/"
        },
        "id": "XZueFUw7s4Se",
        "outputId": "6ed683bc-f885-4792-9bd6-28fd9e6deca6"
      },
      "outputs": [
        {
          "output_type": "stream",
          "name": "stdout",
          "text": [
            "Looking in indexes: https://pypi.org/simple, https://us-python.pkg.dev/colab-wheels/public/simple/\n",
            "Requirement already satisfied: catboost in /usr/local/lib/python3.9/dist-packages (1.1.1)\n",
            "Requirement already satisfied: plotly in /usr/local/lib/python3.9/dist-packages (from catboost) (5.5.0)\n",
            "Requirement already satisfied: six in /usr/local/lib/python3.9/dist-packages (from catboost) (1.15.0)\n",
            "Requirement already satisfied: pandas>=0.24.0 in /usr/local/lib/python3.9/dist-packages (from catboost) (1.4.4)\n",
            "Requirement already satisfied: scipy in /usr/local/lib/python3.9/dist-packages (from catboost) (1.10.1)\n",
            "Requirement already satisfied: matplotlib in /usr/local/lib/python3.9/dist-packages (from catboost) (3.5.3)\n",
            "Requirement already satisfied: graphviz in /usr/local/lib/python3.9/dist-packages (from catboost) (0.10.1)\n",
            "Requirement already satisfied: numpy>=1.16.0 in /usr/local/lib/python3.9/dist-packages (from catboost) (1.22.4)\n",
            "Requirement already satisfied: pytz>=2020.1 in /usr/local/lib/python3.9/dist-packages (from pandas>=0.24.0->catboost) (2022.7.1)\n",
            "Requirement already satisfied: python-dateutil>=2.8.1 in /usr/local/lib/python3.9/dist-packages (from pandas>=0.24.0->catboost) (2.8.2)\n",
            "Requirement already satisfied: fonttools>=4.22.0 in /usr/local/lib/python3.9/dist-packages (from matplotlib->catboost) (4.39.0)\n",
            "Requirement already satisfied: packaging>=20.0 in /usr/local/lib/python3.9/dist-packages (from matplotlib->catboost) (23.0)\n",
            "Requirement already satisfied: kiwisolver>=1.0.1 in /usr/local/lib/python3.9/dist-packages (from matplotlib->catboost) (1.4.4)\n",
            "Requirement already satisfied: pyparsing>=2.2.1 in /usr/local/lib/python3.9/dist-packages (from matplotlib->catboost) (3.0.9)\n",
            "Requirement already satisfied: cycler>=0.10 in /usr/local/lib/python3.9/dist-packages (from matplotlib->catboost) (0.11.0)\n",
            "Requirement already satisfied: pillow>=6.2.0 in /usr/local/lib/python3.9/dist-packages (from matplotlib->catboost) (8.4.0)\n",
            "Requirement already satisfied: tenacity>=6.2.0 in /usr/local/lib/python3.9/dist-packages (from plotly->catboost) (8.2.2)\n"
          ]
        }
      ],
      "source": [
        "!pip install catboost\n",
        "from catboost import CatBoostClassifier"
      ]
    },
    {
      "cell_type": "code",
      "execution_count": 17,
      "metadata": {
        "colab": {
          "base_uri": "https://localhost:8080/",
          "height": 1000,
          "referenced_widgets": [
            "9a9697d7fecb439ebee343f4ad195c52"
          ]
        },
        "id": "9-Hgs4ywtQHA",
        "outputId": "bd45c6a4-5a12-4cc7-ee4e-9ab6d3303a18"
      },
      "outputs": [
        {
          "output_type": "display_data",
          "data": {
            "text/plain": [
              "MetricVisualizer(layout=Layout(align_self='stretch', height='500px'))"
            ],
            "application/vnd.jupyter.widget-view+json": {
              "version_major": 2,
              "version_minor": 0,
              "model_id": "9a9697d7fecb439ebee343f4ad195c52"
            }
          },
          "metadata": {}
        },
        {
          "output_type": "stream",
          "name": "stdout",
          "text": [
            "0:\tloss: 0.8258835\tbest: 0.8258835 (0)\ttotal: 2.97s\tremaining: 4m 24s\n",
            "1:\tloss: 0.8278775\tbest: 0.8278775 (1)\ttotal: 5.34s\tremaining: 3m 54s\n",
            "2:\tloss: 0.8339562\tbest: 0.8339562 (2)\ttotal: 7.63s\tremaining: 3m 41s\n",
            "3:\tloss: 0.8391256\tbest: 0.8391256 (3)\ttotal: 10.1s\tremaining: 3m 37s\n",
            "4:\tloss: 0.8355565\tbest: 0.8391256 (3)\ttotal: 12.8s\tremaining: 3m 37s\n",
            "5:\tloss: 0.8270255\tbest: 0.8391256 (3)\ttotal: 15.9s\tremaining: 3m 42s\n",
            "6:\tloss: 0.8281997\tbest: 0.8391256 (3)\ttotal: 19.5s\tremaining: 3m 51s\n",
            "7:\tloss: 0.8302439\tbest: 0.8391256 (3)\ttotal: 23.4s\tremaining: 3m 59s\n",
            "8:\tloss: 0.8356925\tbest: 0.8391256 (3)\ttotal: 27s\tremaining: 4m 3s\n",
            "9:\tloss: 0.8381591\tbest: 0.8391256 (3)\ttotal: 30.6s\tremaining: 4m 4s\n",
            "10:\tloss: 0.8327033\tbest: 0.8391256 (3)\ttotal: 32.2s\tremaining: 3m 51s\n",
            "11:\tloss: 0.8214766\tbest: 0.8391256 (3)\ttotal: 33.9s\tremaining: 3m 40s\n",
            "12:\tloss: 0.8297498\tbest: 0.8391256 (3)\ttotal: 36s\tremaining: 3m 33s\n",
            "13:\tloss: 0.8332761\tbest: 0.8391256 (3)\ttotal: 39.3s\tremaining: 3m 33s\n",
            "14:\tloss: 0.8370242\tbest: 0.8391256 (3)\ttotal: 43s\tremaining: 3m 35s\n",
            "15:\tloss: 0.8353023\tbest: 0.8391256 (3)\ttotal: 45.1s\tremaining: 3m 28s\n",
            "16:\tloss: 0.8283000\tbest: 0.8391256 (3)\ttotal: 47.3s\tremaining: 3m 23s\n",
            "17:\tloss: 0.8182046\tbest: 0.8391256 (3)\ttotal: 50.5s\tremaining: 3m 21s\n",
            "18:\tloss: 0.8314825\tbest: 0.8391256 (3)\ttotal: 53.5s\tremaining: 3m 19s\n",
            "19:\tloss: 0.8348083\tbest: 0.8391256 (3)\ttotal: 57s\tremaining: 3m 19s\n",
            "20:\tloss: 0.8371925\tbest: 0.8391256 (3)\ttotal: 59.8s\tremaining: 3m 16s\n",
            "21:\tloss: 0.8346579\tbest: 0.8391256 (3)\ttotal: 1m 2s\tremaining: 3m 12s\n",
            "22:\tloss: 0.8268608\tbest: 0.8391256 (3)\ttotal: 1m 5s\tremaining: 3m 9s\n",
            "23:\tloss: 0.8151044\tbest: 0.8391256 (3)\ttotal: 1m 9s\tremaining: 3m 10s\n",
            "24:\tloss: 0.8327104\tbest: 0.8391256 (3)\ttotal: 1m 12s\tremaining: 3m 8s\n",
            "25:\tloss: 0.8359037\tbest: 0.8391256 (3)\ttotal: 1m 15s\tremaining: 3m 6s\n",
            "26:\tloss: 0.8376149\tbest: 0.8391256 (3)\ttotal: 1m 19s\tremaining: 3m 5s\n",
            "27:\tloss: 0.8323596\tbest: 0.8391256 (3)\ttotal: 1m 23s\tremaining: 3m 4s\n",
            "28:\tloss: 0.8247057\tbest: 0.8391256 (3)\ttotal: 1m 27s\tremaining: 3m 3s\n",
            "29:\tloss: 0.8121903\tbest: 0.8391256 (3)\ttotal: 1m 32s\tremaining: 3m 5s\n",
            "30:\tloss: 0.8237177\tbest: 0.8391256 (3)\ttotal: 1m 34s\tremaining: 2m 59s\n",
            "31:\tloss: 0.8302045\tbest: 0.8391256 (3)\ttotal: 1m 35s\tremaining: 2m 53s\n",
            "32:\tloss: 0.8329539\tbest: 0.8391256 (3)\ttotal: 1m 36s\tremaining: 2m 47s\n",
            "33:\tloss: 0.8364765\tbest: 0.8391256 (3)\ttotal: 1m 37s\tremaining: 2m 41s\n",
            "34:\tloss: 0.8330899\tbest: 0.8391256 (3)\ttotal: 1m 39s\tremaining: 2m 35s\n",
            "35:\tloss: 0.8199516\tbest: 0.8391256 (3)\ttotal: 1m 40s\tremaining: 2m 30s\n",
            "36:\tloss: 0.8266568\tbest: 0.8391256 (3)\ttotal: 1m 41s\tremaining: 2m 26s\n",
            "37:\tloss: 0.8329968\tbest: 0.8391256 (3)\ttotal: 1m 43s\tremaining: 2m 21s\n",
            "38:\tloss: 0.8356853\tbest: 0.8391256 (3)\ttotal: 1m 46s\tremaining: 2m 19s\n",
            "39:\tloss: 0.8359180\tbest: 0.8391256 (3)\ttotal: 1m 48s\tremaining: 2m 15s\n",
            "40:\tloss: 0.8325816\tbest: 0.8391256 (3)\ttotal: 1m 50s\tremaining: 2m 11s\n",
            "41:\tloss: 0.8089827\tbest: 0.8391256 (3)\ttotal: 1m 52s\tremaining: 2m 8s\n",
            "42:\tloss: 0.8283859\tbest: 0.8391256 (3)\ttotal: 1m 54s\tremaining: 2m 5s\n",
            "43:\tloss: 0.8348512\tbest: 0.8391256 (3)\ttotal: 1m 57s\tremaining: 2m 2s\n",
            "44:\tloss: 0.8363190\tbest: 0.8391256 (3)\ttotal: 2m 2s\tremaining: 2m 2s\n",
            "45:\tloss: 0.8341854\tbest: 0.8391256 (3)\ttotal: 2m 5s\tremaining: 1m 59s\n",
            "46:\tloss: 0.8279491\tbest: 0.8391256 (3)\ttotal: 2m 7s\tremaining: 1m 56s\n",
            "47:\tloss: 0.8013503\tbest: 0.8391256 (3)\ttotal: 2m 10s\tremaining: 1m 54s\n",
            "48:\tloss: 0.8298751\tbest: 0.8391256 (3)\ttotal: 2m 14s\tremaining: 1m 52s\n",
            "49:\tloss: 0.8367915\tbest: 0.8391256 (3)\ttotal: 2m 17s\tremaining: 1m 50s\n",
            "50:\tloss: 0.8364192\tbest: 0.8391256 (3)\ttotal: 2m 20s\tremaining: 1m 47s\n",
            "51:\tloss: 0.8334479\tbest: 0.8391256 (3)\ttotal: 2m 23s\tremaining: 1m 44s\n",
            "52:\tloss: 0.8266389\tbest: 0.8391256 (3)\ttotal: 2m 27s\tremaining: 1m 42s\n",
            "53:\tloss: 0.8021308\tbest: 0.8391256 (3)\ttotal: 2m 30s\tremaining: 1m 40s\n",
            "54:\tloss: 0.8311782\tbest: 0.8391256 (3)\ttotal: 2m 33s\tremaining: 1m 37s\n",
            "55:\tloss: 0.8375934\tbest: 0.8391256 (3)\ttotal: 2m 38s\tremaining: 1m 36s\n",
            "56:\tloss: 0.8363548\tbest: 0.8391256 (3)\ttotal: 2m 41s\tremaining: 1m 33s\n",
            "57:\tloss: 0.8314789\tbest: 0.8391256 (3)\ttotal: 2m 45s\tremaining: 1m 31s\n",
            "58:\tloss: 0.8247845\tbest: 0.8391256 (3)\ttotal: 2m 48s\tremaining: 1m 28s\n",
            "59:\tloss: 0.8032405\tbest: 0.8391256 (3)\ttotal: 2m 53s\tremaining: 1m 26s\n",
            "60:\tloss: 0.8243227\tbest: 0.8391256 (3)\ttotal: 2m 54s\tremaining: 1m 23s\n",
            "61:\tloss: 0.8269503\tbest: 0.8391256 (3)\ttotal: 2m 56s\tremaining: 1m 19s\n",
            "62:\tloss: 0.8331794\tbest: 0.8391256 (3)\ttotal: 2m 57s\tremaining: 1m 16s\n",
            "63:\tloss: 0.8364872\tbest: 0.8391256 (3)\ttotal: 2m 58s\tremaining: 1m 12s\n",
            "64:\tloss: 0.8335732\tbest: 0.8391256 (3)\ttotal: 2m 59s\tremaining: 1m 9s\n",
            "65:\tloss: 0.8121903\tbest: 0.8391256 (3)\ttotal: 3m 1s\tremaining: 1m 5s\n",
            "66:\tloss: 0.8254396\tbest: 0.8391256 (3)\ttotal: 3m 4s\tremaining: 1m 3s\n",
            "67:\tloss: 0.8297391\tbest: 0.8391256 (3)\ttotal: 3m 5s\tremaining: 1m\n",
            "68:\tloss: 0.8364586\tbest: 0.8391256 (3)\ttotal: 3m 7s\tremaining: 57.1s\n",
            "69:\tloss: 0.8357176\tbest: 0.8391256 (3)\ttotal: 3m 9s\tremaining: 54.2s\n",
            "70:\tloss: 0.8303548\tbest: 0.8391256 (3)\ttotal: 3m 11s\tremaining: 51.2s\n",
            "71:\tloss: 0.8126342\tbest: 0.8391256 (3)\ttotal: 3m 13s\tremaining: 48.3s\n",
            "72:\tloss: 0.8270184\tbest: 0.8391256 (3)\ttotal: 3m 17s\tremaining: 45.9s\n",
            "73:\tloss: 0.8324276\tbest: 0.8391256 (3)\ttotal: 3m 19s\tremaining: 43.1s\n",
            "74:\tloss: 0.8384813\tbest: 0.8391256 (3)\ttotal: 3m 21s\tremaining: 40.4s\n",
            "75:\tloss: 0.8343429\tbest: 0.8391256 (3)\ttotal: 3m 24s\tremaining: 37.7s\n",
            "76:\tloss: 0.8267534\tbest: 0.8391256 (3)\ttotal: 3m 28s\tremaining: 35.3s\n",
            "77:\tloss: 0.8099350\tbest: 0.8391256 (3)\ttotal: 3m 31s\tremaining: 32.6s\n",
            "78:\tloss: 0.8285183\tbest: 0.8391256 (3)\ttotal: 3m 34s\tremaining: 29.9s\n",
            "79:\tloss: 0.8352772\tbest: 0.8391256 (3)\ttotal: 3m 37s\tremaining: 27.2s\n",
            "80:\tloss: 0.8385672\tbest: 0.8391256 (3)\ttotal: 3m 41s\tremaining: 24.6s\n",
            "81:\tloss: 0.8296747\tbest: 0.8391256 (3)\ttotal: 3m 45s\tremaining: 22s\n",
            "82:\tloss: 0.8215626\tbest: 0.8391256 (3)\ttotal: 3m 48s\tremaining: 19.3s\n",
            "83:\tloss: 0.8011857\tbest: 0.8391256 (3)\ttotal: 3m 51s\tremaining: 16.6s\n",
            "84:\tloss: 0.8302832\tbest: 0.8391256 (3)\ttotal: 3m 56s\tremaining: 13.9s\n",
            "85:\tloss: 0.8369813\tbest: 0.8391256 (3)\ttotal: 4m\tremaining: 11.2s\n",
            "86:\tloss: 0.8385600\tbest: 0.8391256 (3)\ttotal: 4m 3s\tremaining: 8.41s\n",
            "87:\tloss: 0.8267391\tbest: 0.8391256 (3)\ttotal: 4m 8s\tremaining: 5.65s\n",
            "88:\tloss: 0.8209039\tbest: 0.8391256 (3)\ttotal: 4m 12s\tremaining: 2.84s\n",
            "89:\tloss: 0.8023814\tbest: 0.8391256 (3)\ttotal: 4m 16s\tremaining: 0us\n",
            "Estimating final quality...\n"
          ]
        }
      ],
      "source": [
        "x_train, x_test, y_train, y_test = train_test_split(data.drop(columns = 'Churn'), data['Churn'], train_size=0.8)\n",
        "\n",
        "\n",
        "catboost = CatBoostClassifier(\n",
        "    cat_features=cat_cols,\n",
        "    logging_level=\"Silent\",\n",
        "    eval_metric=\"AUC:hints=skip_train~false\",\n",
        "    grow_policy=\"Lossguide\",\n",
        "    metric_period=1000,\n",
        "    random_seed=0,\n",
        ")\n",
        "params = {\n",
        "\"n_estimators\": [100, 150, 200, 250, 300],\n",
        "\"learning_rate\": [0.005, 0.01, 0.02, 0.05, 0.1, 0.2],\n",
        "\"subsample\": [0.3, 0.5, 0.7],\n",
        "}\n",
        "catboost.grid_search(params, x_train, y_train, cv=5, plot=True, refit=True);"
      ]
    },
    {
      "cell_type": "code",
      "execution_count": 18,
      "metadata": {
        "id": "_q0e9Qjsxdw6",
        "colab": {
          "base_uri": "https://localhost:8080/"
        },
        "outputId": "5e36fc1c-fa44-417d-b946-1fe954aa7f85"
      },
      "outputs": [
        {
          "output_type": "stream",
          "name": "stdout",
          "text": [
            "Best score: {'learn': {'Logloss': 0.39886878368466683, 'AUC': 0.8632359051301287}}\n",
            "Best params: {'random_seed': 0, 'metric_period': 1000, 'grow_policy': 'Lossguide', 'iterations': 100, 'subsample': 0.3, 'learning_rate': 0.05}\n"
          ]
        }
      ],
      "source": [
        "print('Best score:', end=' ')\n",
        "print(catboost.best_score_)\n",
        "best_params = catboost.get_params()\n",
        "for i in ('cat_features', 'logging_level', 'eval_metric'):\n",
        "  best_params.pop(i)\n",
        "print('Best params:', end=' ')\n",
        "print(best_params)"
      ]
    }
  ],
  "metadata": {
    "colab": {
      "provenance": []
    },
    "kernelspec": {
      "display_name": "Python 3",
      "name": "python3"
    },
    "language_info": {
      "name": "python"
    },
    "widgets": {
      "application/vnd.jupyter.widget-state+json": {
        "9a9697d7fecb439ebee343f4ad195c52": {
          "model_module": "catboost-widget",
          "model_name": "CatboostWidgetModel",
          "model_module_version": "^1.0.0",
          "state": {
            "_dom_classes": [],
            "_model_module": "catboost-widget",
            "_model_module_version": "^1.0.0",
            "_model_name": "CatboostWidgetModel",
            "_view_count": null,
            "_view_module": "catboost-widget",
            "_view_module_version": "^1.0.0",
            "_view_name": "CatboostWidgetView",
            "data": {
              "catboost_info": {
                "path": "catboost_info",
                "name": "catboost_info",
                "content": {
                  "passed_iterations": 89,
                  "total_iterations": 90,
                  "data": {
                    "iterations": [
                      {
                        "parameters": [
                          {
                            "subsample": 0.3,
                            "learning_rate": 0.005,
                            "iterations": 100
                          }
                        ],
                        "learn": [
                          0.8501208703,
                          0.5092083419
                        ],
                        "iteration": 0,
                        "passed_time": 2.971251525,
                        "remaining_time": 264.4413857,
                        "test": [
                          0.8258835238,
                          0.5179835836
                        ]
                      },
                      {
                        "parameters": [
                          {
                            "subsample": 0.3,
                            "learning_rate": 0.01,
                            "iterations": 100
                          }
                        ],
                        "learn": [
                          0.8561347984,
                          0.4481426261
                        ],
                        "iteration": 1,
                        "passed_time": 5.339553918,
                        "remaining_time": 234.9403724,
                        "test": [
                          0.8278775382,
                          0.4647944618
                        ]
                      },
                      {
                        "parameters": [
                          {
                            "subsample": 0.3,
                            "learning_rate": 0.02,
                            "iterations": 100
                          }
                        ],
                        "learn": [
                          0.8633115833,
                          0.4098286759
                        ],
                        "iteration": 2,
                        "passed_time": 7.630231729,
                        "remaining_time": 221.2767202,
                        "test": [
                          0.8339562391,
                          0.4355081701
                        ]
                      },
                      {
                        "parameters": [
                          {
                            "subsample": 0.3,
                            "learning_rate": 0.05,
                            "iterations": 100
                          }
                        ],
                        "learn": [
                          0.8762288025,
                          0.3828662138
                        ],
                        "iteration": 3,
                        "passed_time": 10.13425372,
                        "remaining_time": 217.886455,
                        "test": [
                          0.8391256408,
                          0.4240270873
                        ]
                      },
                      {
                        "parameters": [
                          {
                            "subsample": 0.3,
                            "learning_rate": 0.1,
                            "iterations": 100
                          }
                        ],
                        "learn": [
                          0.8951204276,
                          0.3576402166
                        ],
                        "iteration": 4,
                        "passed_time": 12.77761101,
                        "remaining_time": 217.2193871,
                        "test": [
                          0.8355564625,
                          0.4271524816
                        ]
                      },
                      {
                        "parameters": [
                          {
                            "subsample": 0.3,
                            "learning_rate": 0.2,
                            "iterations": 100
                          }
                        ],
                        "learn": [
                          0.9346453659,
                          0.2986538936
                        ],
                        "iteration": 5,
                        "passed_time": 15.90773663,
                        "remaining_time": 222.7083128,
                        "test": [
                          0.8270255177,
                          0.4409291301
                        ]
                      },
                      {
                        "parameters": [
                          {
                            "subsample": 0.3,
                            "learning_rate": 0.005,
                            "iterations": 150
                          }
                        ],
                        "learn": [
                          0.8527742797,
                          0.4722845997
                        ],
                        "iteration": 6,
                        "passed_time": 19.50355469,
                        "remaining_time": 231.2564342,
                        "test": [
                          0.8281997308,
                          0.4844003808
                        ]
                      },
                      {
                        "parameters": [
                          {
                            "subsample": 0.3,
                            "learning_rate": 0.01,
                            "iterations": 150
                          }
                        ],
                        "learn": [
                          0.8596897663,
                          0.4234063938
                        ],
                        "iteration": 7,
                        "passed_time": 23.40411799,
                        "remaining_time": 239.8922094,
                        "test": [
                          0.830243864,
                          0.4453630504
                        ]
                      },
                      {
                        "parameters": [
                          {
                            "subsample": 0.3,
                            "learning_rate": 0.02,
                            "iterations": 150
                          }
                        ],
                        "learn": [
                          0.8693941672,
                          0.395314235
                        ],
                        "iteration": 8,
                        "passed_time": 27.01700176,
                        "remaining_time": 243.1530159,
                        "test": [
                          0.8356924994,
                          0.4293215831
                        ]
                      },
                      {
                        "parameters": [
                          {
                            "subsample": 0.3,
                            "learning_rate": 0.05,
                            "iterations": 150
                          }
                        ],
                        "learn": [
                          0.8854094774,
                          0.3700637626
                        ],
                        "iteration": 9,
                        "passed_time": 30.55575647,
                        "remaining_time": 244.4460517,
                        "test": [
                          0.8381590629,
                          0.4251517047
                        ]
                      },
                      {
                        "parameters": [
                          {
                            "subsample": 0.3,
                            "learning_rate": 0.1,
                            "iterations": 150
                          }
                        ],
                        "learn": [
                          0.9177912811,
                          0.3267078933
                        ],
                        "iteration": 10,
                        "passed_time": 32.21553057,
                        "remaining_time": 231.3660832,
                        "test": [
                          0.8327032677,
                          0.4308434558
                        ]
                      },
                      {
                        "parameters": [
                          {
                            "subsample": 0.3,
                            "learning_rate": 0.2,
                            "iterations": 150
                          }
                        ],
                        "learn": [
                          0.9588700076,
                          0.2572539295
                        ],
                        "iteration": 11,
                        "passed_time": 33.93175816,
                        "remaining_time": 220.5564281,
                        "test": [
                          0.8214766446,
                          0.45464445
                        ]
                      },
                      {
                        "parameters": [
                          {
                            "subsample": 0.3,
                            "learning_rate": 0.005,
                            "iterations": 200
                          }
                        ],
                        "learn": [
                          0.8551399674,
                          0.4491974929
                        ],
                        "iteration": 12,
                        "passed_time": 36.04628693,
                        "remaining_time": 213.5049303,
                        "test": [
                          0.8297498353,
                          0.464254691
                        ]
                      },
                      {
                        "parameters": [
                          {
                            "subsample": 0.3,
                            "learning_rate": 0.01,
                            "iterations": 200
                          }
                        ],
                        "learn": [
                          0.8631699808,
                          0.4099527251
                        ],
                        "iteration": 13,
                        "passed_time": 39.31255589,
                        "remaining_time": 213.4110177,
                        "test": [
                          0.8332760546,
                          0.4356231993
                        ]
                      },
                      {
                        "parameters": [
                          {
                            "subsample": 0.3,
                            "learning_rate": 0.02,
                            "iterations": 200
                          }
                        ],
                        "learn": [
                          0.8741752276,
                          0.386998862
                        ],
                        "iteration": 14,
                        "passed_time": 43.00693307,
                        "remaining_time": 215.0346653,
                        "test": [
                          0.8370242289,
                          0.4264136528
                        ]
                      },
                      {
                        "parameters": [
                          {
                            "subsample": 0.3,
                            "learning_rate": 0.05,
                            "iterations": 200
                          }
                        ],
                        "learn": [
                          0.8955093263,
                          0.3570267698
                        ],
                        "iteration": 15,
                        "passed_time": 45.14477748,
                        "remaining_time": 208.7945958,
                        "test": [
                          0.8353022883,
                          0.4274663783
                        ]
                      },
                      {
                        "parameters": [
                          {
                            "subsample": 0.3,
                            "learning_rate": 0.1,
                            "iterations": 200
                          }
                        ],
                        "learn": [
                          0.9343183477,
                          0.3029765866
                        ],
                        "iteration": 16,
                        "passed_time": 47.33447759,
                        "remaining_time": 203.2598155,
                        "test": [
                          0.8282999685,
                          0.4373198965
                        ]
                      },
                      {
                        "parameters": [
                          {
                            "subsample": 0.3,
                            "learning_rate": 0.2,
                            "iterations": 200
                          }
                        ],
                        "learn": [
                          0.9738656443,
                          0.2249360448
                        ],
                        "iteration": 17,
                        "passed_time": 50.48314438,
                        "remaining_time": 201.9325775,
                        "test": [
                          0.8182045995,
                          0.4646458126
                        ]
                      },
                      {
                        "parameters": [
                          {
                            "subsample": 0.3,
                            "learning_rate": 0.005,
                            "iterations": 250
                          }
                        ],
                        "learn": [
                          0.8571804436,
                          0.4338464637
                        ],
                        "iteration": 18,
                        "passed_time": 53.48288601,
                        "remaining_time": 199.8571004,
                        "test": [
                          0.8314825157,
                          0.4511959762
                        ]
                      },
                      {
                        "parameters": [
                          {
                            "subsample": 0.3,
                            "learning_rate": 0.01,
                            "iterations": 250
                          }
                        ],
                        "learn": [
                          0.8659645411,
                          0.4017760077
                        ],
                        "iteration": 19,
                        "passed_time": 57.03923811,
                        "remaining_time": 199.6373334,
                        "test": [
                          0.8348082596,
                          0.4311572454
                        ]
                      },
                      {
                        "parameters": [
                          {
                            "subsample": 0.3,
                            "learning_rate": 0.02,
                            "iterations": 250
                          }
                        ],
                        "learn": [
                          0.8779759109,
                          0.3815106828
                        ],
                        "iteration": 20,
                        "passed_time": 59.75093956,
                        "remaining_time": 196.3245157,
                        "test": [
                          0.837192485,
                          0.425587054
                        ]
                      },
                      {
                        "parameters": [
                          {
                            "subsample": 0.3,
                            "learning_rate": 0.05,
                            "iterations": 250
                          }
                        ],
                        "learn": [
                          0.905519968,
                          0.3433374829
                        ],
                        "iteration": 21,
                        "passed_time": 62.43558786,
                        "remaining_time": 192.9827261,
                        "test": [
                          0.834657903,
                          0.4284975587
                        ]
                      },
                      {
                        "parameters": [
                          {
                            "subsample": 0.3,
                            "learning_rate": 0.1,
                            "iterations": 250
                          }
                        ],
                        "learn": [
                          0.9458904561,
                          0.2843586169
                        ],
                        "iteration": 22,
                        "passed_time": 65.16939165,
                        "remaining_time": 189.8412713,
                        "test": [
                          0.8268608414,
                          0.4404124268
                        ]
                      },
                      {
                        "parameters": [
                          {
                            "subsample": 0.3,
                            "learning_rate": 0.2,
                            "iterations": 250
                          }
                        ],
                        "learn": [
                          0.9838478299,
                          0.1981021907
                        ],
                        "iteration": 23,
                        "passed_time": 69.23272832,
                        "remaining_time": 190.3900029,
                        "test": [
                          0.8151043904,
                          0.476750186
                        ]
                      },
                      {
                        "parameters": [
                          {
                            "subsample": 0.3,
                            "learning_rate": 0.005,
                            "iterations": 300
                          }
                        ],
                        "learn": [
                          0.8592154996,
                          0.4234214053
                        ],
                        "iteration": 24,
                        "passed_time": 72.37838217,
                        "remaining_time": 188.1837936,
                        "test": [
                          0.8327104276,
                          0.4433122015
                        ]
                      },
                      {
                        "parameters": [
                          {
                            "subsample": 0.3,
                            "learning_rate": 0.01,
                            "iterations": 300
                          }
                        ],
                        "learn": [
                          0.868628791,
                          0.395919252
                        ],
                        "iteration": 25,
                        "passed_time": 75.64076396,
                        "remaining_time": 186.1926497,
                        "test": [
                          0.8359037145,
                          0.4285315968
                        ]
                      },
                      {
                        "parameters": [
                          {
                            "subsample": 0.3,
                            "learning_rate": 0.02,
                            "iterations": 300
                          }
                        ],
                        "learn": [
                          0.8813707573,
                          0.3766149162
                        ],
                        "iteration": 26,
                        "passed_time": 79.3345694,
                        "remaining_time": 185.1139953,
                        "test": [
                          0.8376149154,
                          0.4252448234
                        ]
                      },
                      {
                        "parameters": [
                          {
                            "subsample": 0.3,
                            "learning_rate": 0.05,
                            "iterations": 300
                          }
                        ],
                        "learn": [
                          0.9155380624,
                          0.3298548021
                        ],
                        "iteration": 27,
                        "passed_time": 83.38894085,
                        "remaining_time": 184.6469404,
                        "test": [
                          0.8323595956,
                          0.431859381
                        ]
                      },
                      {
                        "parameters": [
                          {
                            "subsample": 0.3,
                            "learning_rate": 0.1,
                            "iterations": 300
                          }
                        ],
                        "learn": [
                          0.9569345476,
                          0.2642618564
                        ],
                        "iteration": 28,
                        "passed_time": 87.38128458,
                        "remaining_time": 183.8020124,
                        "test": [
                          0.8247057307,
                          0.4448354879
                        ]
                      },
                      {
                        "parameters": [
                          {
                            "subsample": 0.3,
                            "learning_rate": 0.2,
                            "iterations": 300
                          }
                        ],
                        "learn": [
                          0.9913968014,
                          0.1724355655
                        ],
                        "iteration": 29,
                        "passed_time": 92.67542741,
                        "remaining_time": 185.3508548,
                        "test": [
                          0.8121903371,
                          0.4881228662
                        ]
                      },
                      {
                        "parameters": [
                          {
                            "subsample": 0.5,
                            "learning_rate": 0.005,
                            "iterations": 100
                          }
                        ],
                        "learn": [
                          0.8510734689,
                          0.5057110294
                        ],
                        "iteration": 30,
                        "passed_time": 94.48512241,
                        "remaining_time": 179.8265233,
                        "test": [
                          0.8237176733,
                          0.515116178
                        ]
                      },
                      {
                        "parameters": [
                          {
                            "subsample": 0.5,
                            "learning_rate": 0.01,
                            "iterations": 100
                          }
                        ],
                        "learn": [
                          0.856414164,
                          0.4459215065
                        ],
                        "iteration": 31,
                        "passed_time": 95.6260908,
                        "remaining_time": 173.3222896,
                        "test": [
                          0.8302044849,
                          0.4613223638
                        ]
                      },
                      {
                        "parameters": [
                          {
                            "subsample": 0.5,
                            "learning_rate": 0.02,
                            "iterations": 100
                          }
                        ],
                        "learn": [
                          0.8633599133,
                          0.4078223878
                        ],
                        "iteration": 32,
                        "passed_time": 96.76519369,
                        "remaining_time": 167.13988,
                        "test": [
                          0.832953862,
                          0.4348752443
                        ]
                      },
                      {
                        "parameters": [
                          {
                            "subsample": 0.5,
                            "learning_rate": 0.05,
                            "iterations": 100
                          }
                        ],
                        "learn": [
                          0.8786455303,
                          0.3794776409
                        ],
                        "iteration": 33,
                        "passed_time": 97.94252947,
                        "remaining_time": 161.3171074,
                        "test": [
                          0.8364765014,
                          0.4265825421
                        ]
                      },
                      {
                        "parameters": [
                          {
                            "subsample": 0.5,
                            "learning_rate": 0.1,
                            "iterations": 100
                          }
                        ],
                        "learn": [
                          0.8952496088,
                          0.3562148554
                        ],
                        "iteration": 34,
                        "passed_time": 99.08429675,
                        "remaining_time": 155.7038949,
                        "test": [
                          0.8330898989,
                          0.4309927604
                        ]
                      },
                      {
                        "parameters": [
                          {
                            "subsample": 0.5,
                            "learning_rate": 0.2,
                            "iterations": 100
                          }
                        ],
                        "learn": [
                          0.944289693,
                          0.2828914044
                        ],
                        "iteration": 35,
                        "passed_time": 100.2847015,
                        "remaining_time": 150.4270522,
                        "test": [
                          0.8199515995,
                          0.4503906873
                        ]
                      },
                      {
                        "parameters": [
                          {
                            "subsample": 0.5,
                            "learning_rate": 0.005,
                            "iterations": 150
                          }
                        ],
                        "learn": [
                          0.8540299574,
                          0.4683101589
                        ],
                        "iteration": 36,
                        "passed_time": 101.9842434,
                        "remaining_time": 146.0855378,
                        "test": [
                          0.8266567861,
                          0.4816538976
                        ]
                      },
                      {
                        "parameters": [
                          {
                            "subsample": 0.5,
                            "learning_rate": 0.01,
                            "iterations": 150
                          }
                        ],
                        "learn": [
                          0.860733379,
                          0.420856087
                        ],
                        "iteration": 37,
                        "passed_time": 103.7392988,
                        "remaining_time": 141.9590404,
                        "test": [
                          0.832996821,
                          0.4417311729
                        ]
                      },
                      {
                        "parameters": [
                          {
                            "subsample": 0.5,
                            "learning_rate": 0.02,
                            "iterations": 150
                          }
                        ],
                        "learn": [
                          0.8695789053,
                          0.3938382771
                        ],
                        "iteration": 38,
                        "passed_time": 106.4121158,
                        "remaining_time": 139.1543053,
                        "test": [
                          0.8356853395,
                          0.4286940917
                        ]
                      },
                      {
                        "parameters": [
                          {
                            "subsample": 0.5,
                            "learning_rate": 0.05,
                            "iterations": 150
                          }
                        ],
                        "learn": [
                          0.8863487514,
                          0.3689514979
                        ],
                        "iteration": 39,
                        "passed_time": 108.317346,
                        "remaining_time": 135.3966825,
                        "test": [
                          0.8359180342,
                          0.4261824416
                        ]
                      },
                      {
                        "parameters": [
                          {
                            "subsample": 0.5,
                            "learning_rate": 0.1,
                            "iterations": 150
                          }
                        ],
                        "learn": [
                          0.9227340439,
                          0.3190703721
                        ],
                        "iteration": 40,
                        "passed_time": 110.0309034,
                        "remaining_time": 131.5003479,
                        "test": [
                          0.8325815505,
                          0.4303407131
                        ]
                      },
                      {
                        "parameters": [
                          {
                            "subsample": 0.5,
                            "learning_rate": 0.2,
                            "iterations": 150
                          }
                        ],
                        "learn": [
                          0.9729358556,
                          0.2266650935
                        ],
                        "iteration": 41,
                        "passed_time": 112.5085235,
                        "remaining_time": 128.5811698,
                        "test": [
                          0.8089827305,
                          0.4749024728
                        ]
                      },
                      {
                        "parameters": [
                          {
                            "subsample": 0.5,
                            "learning_rate": 0.005,
                            "iterations": 200
                          }
                        ],
                        "learn": [
                          0.8563662857,
                          0.4460428806
                        ],
                        "iteration": 42,
                        "passed_time": 114.7757267,
                        "remaining_time": 125.4525384,
                        "test": [
                          0.8283858865,
                          0.4626995531
                        ]
                      },
                      {
                        "parameters": [
                          {
                            "subsample": 0.5,
                            "learning_rate": 0.01,
                            "iterations": 200
                          }
                        ],
                        "learn": [
                          0.8643712307,
                          0.4072319461
                        ],
                        "iteration": 43,
                        "passed_time": 117.2268372,
                        "remaining_time": 122.5553298,
                        "test": [
                          0.8348512186,
                          0.4332066171
                        ]
                      },
                      {
                        "parameters": [
                          {
                            "subsample": 0.5,
                            "learning_rate": 0.02,
                            "iterations": 200
                          }
                        ],
                        "learn": [
                          0.8740370127,
                          0.3861716223
                        ],
                        "iteration": 44,
                        "passed_time": 122.7469809,
                        "remaining_time": 122.7469809,
                        "test": [
                          0.836318985,
                          0.4268505101
                        ]
                      },
                      {
                        "parameters": [
                          {
                            "subsample": 0.5,
                            "learning_rate": 0.05,
                            "iterations": 200
                          }
                        ],
                        "learn": [
                          0.8967943634,
                          0.3548549591
                        ],
                        "iteration": 45,
                        "passed_time": 125.0017723,
                        "remaining_time": 119.5669127,
                        "test": [
                          0.8341853538,
                          0.4281654974
                        ]
                      },
                      {
                        "parameters": [
                          {
                            "subsample": 0.5,
                            "learning_rate": 0.1,
                            "iterations": 200
                          }
                        ],
                        "learn": [
                          0.944195743,
                          0.2864100011
                        ],
                        "iteration": 46,
                        "passed_time": 127.3021664,
                        "remaining_time": 116.4679394,
                        "test": [
                          0.8279491365,
                          0.4377676396
                        ]
                      },
                      {
                        "parameters": [
                          {
                            "subsample": 0.5,
                            "learning_rate": 0.2,
                            "iterations": 200
                          }
                        ],
                        "learn": [
                          0.9866792024,
                          0.1894376739
                        ],
                        "iteration": 47,
                        "passed_time": 130.3487773,
                        "remaining_time": 114.0551802,
                        "test": [
                          0.8013503451,
                          0.493464204
                        ]
                      },
                      {
                        "parameters": [
                          {
                            "subsample": 0.5,
                            "learning_rate": 0.005,
                            "iterations": 250
                          }
                        ],
                        "learn": [
                          0.8584282168,
                          0.4314073049
                        ],
                        "iteration": 48,
                        "passed_time": 134.823812,
                        "remaining_time": 112.8117611,
                        "test": [
                          0.8298751325,
                          0.451093443
                        ]
                      },
                      {
                        "parameters": [
                          {
                            "subsample": 0.5,
                            "learning_rate": 0.01,
                            "iterations": 250
                          }
                        ],
                        "learn": [
                          0.8671915369,
                          0.3993660789
                        ],
                        "iteration": 49,
                        "passed_time": 137.6553111,
                        "remaining_time": 110.1242489,
                        "test": [
                          0.8367915342,
                          0.4293258892
                        ]
                      },
                      {
                        "parameters": [
                          {
                            "subsample": 0.5,
                            "learning_rate": 0.02,
                            "iterations": 250
                          }
                        ],
                        "learn": [
                          0.8773496529,
                          0.3809741101
                        ],
                        "iteration": 50,
                        "passed_time": 140.42106,
                        "remaining_time": 107.3808106,
                        "test": [
                          0.8364192227,
                          0.4264792296
                        ]
                      },
                      {
                        "parameters": [
                          {
                            "subsample": 0.5,
                            "learning_rate": 0.05,
                            "iterations": 250
                          }
                        ],
                        "learn": [
                          0.9106515341,
                          0.3361582052
                        ],
                        "iteration": 51,
                        "passed_time": 143.5183887,
                        "remaining_time": 104.8788225,
                        "test": [
                          0.8334478907,
                          0.4303649387
                        ]
                      },
                      {
                        "parameters": [
                          {
                            "subsample": 0.5,
                            "learning_rate": 0.1,
                            "iterations": 250
                          }
                        ],
                        "learn": [
                          0.9596155097,
                          0.2594344159
                        ],
                        "iteration": 52,
                        "passed_time": 147.5260678,
                        "remaining_time": 102.9898964,
                        "test": [
                          0.8266388865,
                          0.4415302903
                        ]
                      },
                      {
                        "parameters": [
                          {
                            "subsample": 0.5,
                            "learning_rate": 0.2,
                            "iterations": 250
                          }
                        ],
                        "learn": [
                          0.9932340204,
                          0.1615749456
                        ],
                        "iteration": 53,
                        "passed_time": 150.558581,
                        "remaining_time": 100.3723873,
                        "test": [
                          0.8021307672,
                          0.5038323155
                        ]
                      },
                      {
                        "parameters": [
                          {
                            "subsample": 0.5,
                            "learning_rate": 0.005,
                            "iterations": 300
                          }
                        ],
                        "learn": [
                          0.860696341,
                          0.4207332197
                        ],
                        "iteration": 54,
                        "passed_time": 153.9113284,
                        "remaining_time": 97.94357262,
                        "test": [
                          0.8311782226,
                          0.4432425863
                        ]
                      },
                      {
                        "parameters": [
                          {
                            "subsample": 0.5,
                            "learning_rate": 0.01,
                            "iterations": 300
                          }
                        ],
                        "learn": [
                          0.869706054,
                          0.3938068192
                        ],
                        "iteration": 55,
                        "passed_time": 158.4723637,
                        "remaining_time": 96.21536366,
                        "test": [
                          0.8375934359,
                          0.4270860644
                        ]
                      },
                      {
                        "parameters": [
                          {
                            "subsample": 0.5,
                            "learning_rate": 0.02,
                            "iterations": 300
                          }
                        ],
                        "learn": [
                          0.880426289,
                          0.376575195
                        ],
                        "iteration": 56,
                        "passed_time": 161.8765724,
                        "remaining_time": 93.71801557,
                        "test": [
                          0.8363547842,
                          0.4263947971
                        ]
                      },
                      {
                        "parameters": [
                          {
                            "subsample": 0.5,
                            "learning_rate": 0.05,
                            "iterations": 300
                          }
                        ],
                        "learn": [
                          0.9242087876,
                          0.3175080418
                        ],
                        "iteration": 57,
                        "passed_time": 165.3529058,
                        "remaining_time": 91.2291894,
                        "test": [
                          0.8314789358,
                          0.4330221148
                        ]
                      },
                      {
                        "parameters": [
                          {
                            "subsample": 0.5,
                            "learning_rate": 0.1,
                            "iterations": 300
                          }
                        ],
                        "learn": [
                          0.9703529087,
                          0.2374282852
                        ],
                        "iteration": 58,
                        "passed_time": 168.9906136,
                        "remaining_time": 88.79167835,
                        "test": [
                          0.8247844889,
                          0.4465264013
                        ]
                      },
                      {
                        "parameters": [
                          {
                            "subsample": 0.5,
                            "learning_rate": 0.2,
                            "iterations": 300
                          }
                        ],
                        "learn": [
                          0.9968926495,
                          0.136798205
                        ],
                        "iteration": 59,
                        "passed_time": 173.7569531,
                        "remaining_time": 86.87847654,
                        "test": [
                          0.8032405419,
                          0.5147666834
                        ]
                      },
                      {
                        "parameters": [
                          {
                            "subsample": 0.7,
                            "learning_rate": 0.005,
                            "iterations": 100
                          }
                        ],
                        "learn": [
                          0.8509384158,
                          0.5047146977
                        ],
                        "iteration": 60,
                        "passed_time": 174.9637411,
                        "remaining_time": 83.1794835,
                        "test": [
                          0.8243226795,
                          0.5136841454
                        ]
                      },
                      {
                        "parameters": [
                          {
                            "subsample": 0.7,
                            "learning_rate": 0.01,
                            "iterations": 100
                          }
                        ],
                        "learn": [
                          0.8548339524,
                          0.4464735018
                        ],
                        "iteration": 61,
                        "passed_time": 176.2112227,
                        "remaining_time": 79.57926186,
                        "test": [
                          0.8269503394,
                          0.4632161932
                        ]
                      },
                      {
                        "parameters": [
                          {
                            "subsample": 0.7,
                            "learning_rate": 0.02,
                            "iterations": 100
                          }
                        ],
                        "learn": [
                          0.8644444033,
                          0.4068233662
                        ],
                        "iteration": 62,
                        "passed_time": 177.4133333,
                        "remaining_time": 76.03428568,
                        "test": [
                          0.8331793969,
                          0.4340871751
                        ]
                      },
                      {
                        "parameters": [
                          {
                            "subsample": 0.7,
                            "learning_rate": 0.05,
                            "iterations": 100
                          }
                        ],
                        "learn": [
                          0.8767773711,
                          0.380765952
                        ],
                        "iteration": 63,
                        "passed_time": 178.6234051,
                        "remaining_time": 72.56575833,
                        "test": [
                          0.8364872412,
                          0.426320848
                        ]
                      },
                      {
                        "parameters": [
                          {
                            "subsample": 0.7,
                            "learning_rate": 0.1,
                            "iterations": 100
                          }
                        ],
                        "learn": [
                          0.9006749945,
                          0.3484122225
                        ],
                        "iteration": 64,
                        "passed_time": 179.8313909,
                        "remaining_time": 69.16591957,
                        "test": [
                          0.8335731878,
                          0.4306805419
                        ]
                      },
                      {
                        "parameters": [
                          {
                            "subsample": 0.7,
                            "learning_rate": 0.2,
                            "iterations": 100
                          }
                        ],
                        "learn": [
                          0.9494034176,
                          0.2744518012
                        ],
                        "iteration": 65,
                        "passed_time": 181.1082874,
                        "remaining_time": 65.85755904,
                        "test": [
                          0.8121903371,
                          0.4589363395
                        ]
                      },
                      {
                        "parameters": [
                          {
                            "subsample": 0.7,
                            "learning_rate": 0.005,
                            "iterations": 150
                          }
                        ],
                        "learn": [
                          0.8537612062,
                          0.4675088888
                        ],
                        "iteration": 66,
                        "passed_time": 184.1134637,
                        "remaining_time": 63.20312932,
                        "test": [
                          0.8254396139,
                          0.481197921
                        ]
                      },
                      {
                        "parameters": [
                          {
                            "subsample": 0.7,
                            "learning_rate": 0.01,
                            "iterations": 150
                          }
                        ],
                        "learn": [
                          0.8591818492,
                          0.4217114964
                        ],
                        "iteration": 67,
                        "passed_time": 185.9839823,
                        "remaining_time": 60.17128838,
                        "test": [
                          0.8297390956,
                          0.4439339005
                        ]
                      },
                      {
                        "parameters": [
                          {
                            "subsample": 0.7,
                            "learning_rate": 0.02,
                            "iterations": 150
                          }
                        ],
                        "learn": [
                          0.8702392653,
                          0.3928943054
                        ],
                        "iteration": 68,
                        "passed_time": 187.7721098,
                        "remaining_time": 57.14803342,
                        "test": [
                          0.8364586018,
                          0.4272807862
                        ]
                      },
                      {
                        "parameters": [
                          {
                            "subsample": 0.7,
                            "learning_rate": 0.05,
                            "iterations": 150
                          }
                        ],
                        "learn": [
                          0.8860330252,
                          0.3686521059
                        ],
                        "iteration": 69,
                        "passed_time": 189.5538786,
                        "remaining_time": 54.15825104,
                        "test": [
                          0.8357175588,
                          0.4269611646
                        ]
                      },
                      {
                        "parameters": [
                          {
                            "subsample": 0.7,
                            "learning_rate": 0.1,
                            "iterations": 150
                          }
                        ],
                        "learn": [
                          0.9308986587,
                          0.3063106606
                        ],
                        "iteration": 70,
                        "passed_time": 191.4087878,
                        "remaining_time": 51.22206998,
                        "test": [
                          0.8303548415,
                          0.4378861899
                        ]
                      },
                      {
                        "parameters": [
                          {
                            "subsample": 0.7,
                            "learning_rate": 0.2,
                            "iterations": 150
                          }
                        ],
                        "learn": [
                          0.976497373,
                          0.2159916255
                        ],
                        "iteration": 71,
                        "passed_time": 193.3613604,
                        "remaining_time": 48.34034011,
                        "test": [
                          0.8126342469,
                          0.4675007473
                        ]
                      },
                      {
                        "parameters": [
                          {
                            "subsample": 0.7,
                            "learning_rate": 0.005,
                            "iterations": 200
                          }
                        ],
                        "learn": [
                          0.8559584163,
                          0.4450067577
                        ],
                        "iteration": 72,
                        "passed_time": 197.0831087,
                        "remaining_time": 45.89606642,
                        "test": [
                          0.8270183578,
                          0.4623029608
                        ]
                      },
                      {
                        "parameters": [
                          {
                            "subsample": 0.7,
                            "learning_rate": 0.01,
                            "iterations": 200
                          }
                        ],
                        "learn": [
                          0.8629597226,
                          0.407964886
                        ],
                        "iteration": 73,
                        "passed_time": 199.428612,
                        "remaining_time": 43.11969989,
                        "test": [
                          0.8324276141,
                          0.4345972166
                        ]
                      },
                      {
                        "parameters": [
                          {
                            "subsample": 0.7,
                            "learning_rate": 0.02,
                            "iterations": 200
                          }
                        ],
                        "learn": [
                          0.8745112794,
                          0.385138438
                        ],
                        "iteration": 74,
                        "passed_time": 201.8078352,
                        "remaining_time": 40.36156705,
                        "test": [
                          0.8384812555,
                          0.4248553327
                        ]
                      },
                      {
                        "parameters": [
                          {
                            "subsample": 0.7,
                            "learning_rate": 0.05,
                            "iterations": 200
                          }
                        ],
                        "learn": [
                          0.8971742284,
                          0.3537989426
                        ],
                        "iteration": 75,
                        "passed_time": 204.5975971,
                        "remaining_time": 37.68903105,
                        "test": [
                          0.8343428702,
                          0.4286865562
                        ]
                      },
                      {
                        "parameters": [
                          {
                            "subsample": 0.7,
                            "learning_rate": 0.1,
                            "iterations": 200
                          }
                        ],
                        "learn": [
                          0.9528391414,
                          0.2720866054
                        ],
                        "iteration": 76,
                        "passed_time": 208.884372,
                        "remaining_time": 35.26619267,
                        "test": [
                          0.8267534439,
                          0.4436574042
                        ]
                      },
                      {
                        "parameters": [
                          {
                            "subsample": 0.7,
                            "learning_rate": 0.2,
                            "iterations": 200
                          }
                        ],
                        "learn": [
                          0.9896103966,
                          0.1760161039
                        ],
                        "iteration": 77,
                        "passed_time": 211.9128079,
                        "remaining_time": 32.60197045,
                        "test": [
                          0.8099349887,
                          0.4834051675
                        ]
                      },
                      {
                        "parameters": [
                          {
                            "subsample": 0.7,
                            "learning_rate": 0.005,
                            "iterations": 250
                          }
                        ],
                        "learn": [
                          0.8580056677,
                          0.4304782137
                        ],
                        "iteration": 78,
                        "passed_time": 214.8777877,
                        "remaining_time": 29.91969196,
                        "test": [
                          0.8285183435,
                          0.4507933528
                        ]
                      },
                      {
                        "parameters": [
                          {
                            "subsample": 0.7,
                            "learning_rate": 0.01,
                            "iterations": 250
                          }
                        ],
                        "learn": [
                          0.8662701044,
                          0.3996137037
                        ],
                        "iteration": 79,
                        "passed_time": 217.9105052,
                        "remaining_time": 27.23881315,
                        "test": [
                          0.8352772289,
                          0.4296855684
                        ]
                      },
                      {
                        "parameters": [
                          {
                            "subsample": 0.7,
                            "learning_rate": 0.02,
                            "iterations": 250
                          }
                        ],
                        "learn": [
                          0.8776730577,
                          0.3799485132
                        ],
                        "iteration": 80,
                        "passed_time": 221.6861044,
                        "remaining_time": 24.63178938,
                        "test": [
                          0.8385671736,
                          0.4245533953
                        ]
                      },
                      {
                        "parameters": [
                          {
                            "subsample": 0.7,
                            "learning_rate": 0.05,
                            "iterations": 250
                          }
                        ],
                        "learn": [
                          0.9143137767,
                          0.3304507944
                        ],
                        "iteration": 81,
                        "passed_time": 225.1706564,
                        "remaining_time": 21.96786891,
                        "test": [
                          0.829674657,
                          0.4348984276
                        ]
                      },
                      {
                        "parameters": [
                          {
                            "subsample": 0.7,
                            "learning_rate": 0.1,
                            "iterations": 250
                          }
                        ],
                        "learn": [
                          0.9681753468,
                          0.2412082995
                        ],
                        "iteration": 82,
                        "passed_time": 228.5564054,
                        "remaining_time": 19.27584142,
                        "test": [
                          0.8215625626,
                          0.453216553
                        ]
                      },
                      {
                        "parameters": [
                          {
                            "subsample": 0.7,
                            "learning_rate": 0.2,
                            "iterations": 250
                          }
                        ],
                        "learn": [
                          0.9957880597,
                          0.1425313447
                        ],
                        "iteration": 83,
                        "passed_time": 231.7555592,
                        "remaining_time": 16.55396852,
                        "test": [
                          0.8011856689,
                          0.5107192549
                        ]
                      },
                      {
                        "parameters": [
                          {
                            "subsample": 0.7,
                            "learning_rate": 0.005,
                            "iterations": 300
                          }
                        ],
                        "learn": [
                          0.8603948429,
                          0.4199303686
                        ],
                        "iteration": 84,
                        "passed_time": 236.5600835,
                        "remaining_time": 13.91529903,
                        "test": [
                          0.8302832431,
                          0.4429386537
                        ]
                      },
                      {
                        "parameters": [
                          {
                            "subsample": 0.7,
                            "learning_rate": 0.01,
                            "iterations": 300
                          }
                        ],
                        "learn": [
                          0.8690319177,
                          0.3937841807
                        ],
                        "iteration": 85,
                        "passed_time": 240.2029887,
                        "remaining_time": 11.17223203,
                        "test": [
                          0.8369812699,
                          0.4272214366
                        ]
                      },
                      {
                        "parameters": [
                          {
                            "subsample": 0.7,
                            "learning_rate": 0.02,
                            "iterations": 300
                          }
                        ],
                        "learn": [
                          0.8811894068,
                          0.3751546642
                        ],
                        "iteration": 86,
                        "passed_time": 243.8038123,
                        "remaining_time": 8.407028011,
                        "test": [
                          0.8385600137,
                          0.4243724054
                        ]
                      },
                      {
                        "parameters": [
                          {
                            "subsample": 0.7,
                            "learning_rate": 0.05,
                            "iterations": 300
                          }
                        ],
                        "learn": [
                          0.9290720542,
                          0.3097236664
                        ],
                        "iteration": 87,
                        "passed_time": 248.8003288,
                        "remaining_time": 5.654552928,
                        "test": [
                          0.8267391242,
                          0.4394872088
                        ]
                      },
                      {
                        "parameters": [
                          {
                            "subsample": 0.7,
                            "learning_rate": 0.1,
                            "iterations": 300
                          }
                        ],
                        "learn": [
                          0.9787898881,
                          0.2163838591
                        ],
                        "iteration": 88,
                        "passed_time": 252.6259232,
                        "remaining_time": 2.838493519,
                        "test": [
                          0.8209038577,
                          0.4589273542
                        ]
                      },
                      {
                        "parameters": [
                          {
                            "subsample": 0.7,
                            "learning_rate": 0.2,
                            "iterations": 300
                          }
                        ],
                        "learn": [
                          0.998525708,
                          0.1161354915
                        ],
                        "iteration": 89,
                        "passed_time": 256.5102127,
                        "remaining_time": 0,
                        "test": [
                          0.8023813615,
                          0.5211090727
                        ]
                      }
                    ],
                    "meta": {
                      "test_sets": [
                        "test"
                      ],
                      "test_metrics": [
                        {
                          "best_value": "Max",
                          "name": "AUC"
                        },
                        {
                          "best_value": "Min",
                          "name": "Logloss"
                        }
                      ],
                      "learn_metrics": [
                        {
                          "best_value": "Max",
                          "name": "AUC"
                        },
                        {
                          "best_value": "Min",
                          "name": "Logloss"
                        }
                      ],
                      "launch_mode": "Train",
                      "parameters": "parameters",
                      "iteration_count": 90,
                      "learn_sets": [
                        "learn"
                      ],
                      "name": "experiment"
                    }
                  }
                }
              }
            },
            "layout": "IPY_MODEL_eb790a3dc8f64081825a616a7ebfd9c7"
          }
        }
      }
    }
  },
  "nbformat": 4,
  "nbformat_minor": 0
}